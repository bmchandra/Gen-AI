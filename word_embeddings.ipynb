{
  "nbformat": 4,
  "nbformat_minor": 0,
  "metadata": {
    "colab": {
      "provenance": []
    },
    "kernelspec": {
      "name": "python3",
      "display_name": "Python 3"
    },
    "language_info": {
      "name": "python"
    }
  },
  "cells": [
    {
      "cell_type": "markdown",
      "source": [
        "### Get Data"
      ],
      "metadata": {
        "id": "wVzufsxmjNay"
      }
    },
    {
      "cell_type": "code",
      "execution_count": 1,
      "metadata": {
        "id": "JE2NsY7kjGwA"
      },
      "outputs": [],
      "source": [
        "!pip install -q kaggle"
      ]
    },
    {
      "cell_type": "code",
      "source": [
        "from google.colab import files\n",
        "import os\n",
        "import pandas as pd\n",
        "import gensim, nltk\n",
        "from sklearn.feature_extraction.text import CountVectorizer,TfidfVectorizer\n",
        "from gensim.models import Word2Vec,KeyedVectors\n",
        "from nltk.tokenize import word_tokenize"
      ],
      "metadata": {
        "id": "MSi50KhWjY3_"
      },
      "execution_count": 2,
      "outputs": []
    },
    {
      "cell_type": "markdown",
      "source": [
        "## Mount drive"
      ],
      "metadata": {
        "id": "sYqi1chilgdt"
      }
    },
    {
      "cell_type": "code",
      "source": [
        "from google.colab import drive\n",
        "\n",
        "# Mount Google Drive\n",
        "drive.mount('/content/drive')\n"
      ],
      "metadata": {
        "colab": {
          "base_uri": "https://localhost:8080/"
        },
        "id": "KR9f909uli-Y",
        "outputId": "62c91e0e-076c-41f0-fb17-c0572bca3ed3"
      },
      "execution_count": 3,
      "outputs": [
        {
          "output_type": "stream",
          "name": "stdout",
          "text": [
            "Drive already mounted at /content/drive; to attempt to forcibly remount, call drive.mount(\"/content/drive\", force_remount=True).\n"
          ]
        }
      ]
    },
    {
      "cell_type": "markdown",
      "source": [
        "### folder path"
      ],
      "metadata": {
        "id": "p4nGdAB-lusH"
      }
    },
    {
      "cell_type": "code",
      "source": [
        "folder_path=\"'/content/drive/MyDrive/Colab Notebooks/Generative AI/Ineuron/kaggle\""
      ],
      "metadata": {
        "id": "R_dP_6ellw2m"
      },
      "execution_count": 4,
      "outputs": []
    },
    {
      "cell_type": "markdown",
      "source": [
        "### upload Kaggle API JSON file"
      ],
      "metadata": {
        "id": "zM6S8HxWkHI9"
      }
    },
    {
      "cell_type": "code",
      "source": [
        "# files.upload()"
      ],
      "metadata": {
        "id": "CPZVg5nNjexZ"
      },
      "execution_count": 5,
      "outputs": []
    },
    {
      "cell_type": "code",
      "source": [
        "# !mkdir '/content/drive/MyDrive/Colab Notebooks/Generative AI/Ineuron/kaggle'\n"
      ],
      "metadata": {
        "id": "YSiW6UbFmHvP"
      },
      "execution_count": 6,
      "outputs": []
    },
    {
      "cell_type": "code",
      "source": [
        "!cp '/content/kaggle.json' '/content/drive/MyDrive/Colab Notebooks/Generative AI/Ineuron/kaggle/'\n"
      ],
      "metadata": {
        "id": "FpMuKsOwlVKe",
        "colab": {
          "base_uri": "https://localhost:8080/"
        },
        "outputId": "2d52b4be-3534-4394-c589-0455918f8942"
      },
      "execution_count": 7,
      "outputs": [
        {
          "output_type": "stream",
          "name": "stdout",
          "text": [
            "cp: cannot stat '/content/kaggle.json': No such file or directory\n"
          ]
        }
      ]
    },
    {
      "cell_type": "code",
      "source": [
        "##change permissions\n",
        "!chmod 600 '/root/.kaggle/kaggle.json'"
      ],
      "metadata": {
        "id": "86JL19REv-rc",
        "colab": {
          "base_uri": "https://localhost:8080/"
        },
        "outputId": "77a228b2-1ab0-4dc9-c89d-bdd511563c1c"
      },
      "execution_count": 8,
      "outputs": [
        {
          "output_type": "stream",
          "name": "stdout",
          "text": [
            "chmod: cannot access '/root/.kaggle/kaggle.json': No such file or directory\n"
          ]
        }
      ]
    },
    {
      "cell_type": "markdown",
      "source": [
        "### read data"
      ],
      "metadata": {
        "id": "YeTJb3ZhzGWP"
      }
    },
    {
      "cell_type": "code",
      "source": [
        "folder_path=r'/content/drive/MyDrive/Colab Notebooks/Generative AI/Ineuron/twitter_dataset'\n",
        "file_name = 'sample.csv'\n",
        "data = pd.read_csv(os.path.join(folder_path,file_name))"
      ],
      "metadata": {
        "id": "UidYjZ7EzIAt"
      },
      "execution_count": 9,
      "outputs": []
    },
    {
      "cell_type": "code",
      "source": [
        "data.head()"
      ],
      "metadata": {
        "colab": {
          "base_uri": "https://localhost:8080/",
          "height": 206
        },
        "id": "qA1wQTnMzarH",
        "outputId": "3f0a6ee8-9d75-43e8-b815-02c08c0b4154"
      },
      "execution_count": 10,
      "outputs": [
        {
          "output_type": "execute_result",
          "data": {
            "text/plain": [
              "   tweet_id     author_id  inbound                      created_at  \\\n",
              "0    119237        105834     True  Wed Oct 11 06:55:44 +0000 2017   \n",
              "1    119238  ChaseSupport    False  Wed Oct 11 13:25:49 +0000 2017   \n",
              "2    119239        105835     True  Wed Oct 11 13:00:09 +0000 2017   \n",
              "3    119240  VirginTrains    False  Tue Oct 10 15:16:08 +0000 2017   \n",
              "4    119241        105836     True  Tue Oct 10 15:17:21 +0000 2017   \n",
              "\n",
              "                                                text response_tweet_id  \\\n",
              "0  @AppleSupport causing the reply to be disregar...            119236   \n",
              "1  @105835 Your business means a lot to us. Pleas...               NaN   \n",
              "2  @76328 I really hope you all change but I'm su...            119238   \n",
              "3  @105836 LiveChat is online at the moment - htt...            119241   \n",
              "4  @VirginTrains see attached error message. I've...            119243   \n",
              "\n",
              "   in_response_to_tweet_id  \n",
              "0                      NaN  \n",
              "1                 119239.0  \n",
              "2                      NaN  \n",
              "3                 119242.0  \n",
              "4                 119240.0  "
            ],
            "text/html": [
              "\n",
              "  <div id=\"df-08b4f4a6-b3f4-40dd-9a5e-8bfa59df8e6a\" class=\"colab-df-container\">\n",
              "    <div>\n",
              "<style scoped>\n",
              "    .dataframe tbody tr th:only-of-type {\n",
              "        vertical-align: middle;\n",
              "    }\n",
              "\n",
              "    .dataframe tbody tr th {\n",
              "        vertical-align: top;\n",
              "    }\n",
              "\n",
              "    .dataframe thead th {\n",
              "        text-align: right;\n",
              "    }\n",
              "</style>\n",
              "<table border=\"1\" class=\"dataframe\">\n",
              "  <thead>\n",
              "    <tr style=\"text-align: right;\">\n",
              "      <th></th>\n",
              "      <th>tweet_id</th>\n",
              "      <th>author_id</th>\n",
              "      <th>inbound</th>\n",
              "      <th>created_at</th>\n",
              "      <th>text</th>\n",
              "      <th>response_tweet_id</th>\n",
              "      <th>in_response_to_tweet_id</th>\n",
              "    </tr>\n",
              "  </thead>\n",
              "  <tbody>\n",
              "    <tr>\n",
              "      <th>0</th>\n",
              "      <td>119237</td>\n",
              "      <td>105834</td>\n",
              "      <td>True</td>\n",
              "      <td>Wed Oct 11 06:55:44 +0000 2017</td>\n",
              "      <td>@AppleSupport causing the reply to be disregar...</td>\n",
              "      <td>119236</td>\n",
              "      <td>NaN</td>\n",
              "    </tr>\n",
              "    <tr>\n",
              "      <th>1</th>\n",
              "      <td>119238</td>\n",
              "      <td>ChaseSupport</td>\n",
              "      <td>False</td>\n",
              "      <td>Wed Oct 11 13:25:49 +0000 2017</td>\n",
              "      <td>@105835 Your business means a lot to us. Pleas...</td>\n",
              "      <td>NaN</td>\n",
              "      <td>119239.0</td>\n",
              "    </tr>\n",
              "    <tr>\n",
              "      <th>2</th>\n",
              "      <td>119239</td>\n",
              "      <td>105835</td>\n",
              "      <td>True</td>\n",
              "      <td>Wed Oct 11 13:00:09 +0000 2017</td>\n",
              "      <td>@76328 I really hope you all change but I'm su...</td>\n",
              "      <td>119238</td>\n",
              "      <td>NaN</td>\n",
              "    </tr>\n",
              "    <tr>\n",
              "      <th>3</th>\n",
              "      <td>119240</td>\n",
              "      <td>VirginTrains</td>\n",
              "      <td>False</td>\n",
              "      <td>Tue Oct 10 15:16:08 +0000 2017</td>\n",
              "      <td>@105836 LiveChat is online at the moment - htt...</td>\n",
              "      <td>119241</td>\n",
              "      <td>119242.0</td>\n",
              "    </tr>\n",
              "    <tr>\n",
              "      <th>4</th>\n",
              "      <td>119241</td>\n",
              "      <td>105836</td>\n",
              "      <td>True</td>\n",
              "      <td>Tue Oct 10 15:17:21 +0000 2017</td>\n",
              "      <td>@VirginTrains see attached error message. I've...</td>\n",
              "      <td>119243</td>\n",
              "      <td>119240.0</td>\n",
              "    </tr>\n",
              "  </tbody>\n",
              "</table>\n",
              "</div>\n",
              "    <div class=\"colab-df-buttons\">\n",
              "\n",
              "  <div class=\"colab-df-container\">\n",
              "    <button class=\"colab-df-convert\" onclick=\"convertToInteractive('df-08b4f4a6-b3f4-40dd-9a5e-8bfa59df8e6a')\"\n",
              "            title=\"Convert this dataframe to an interactive table.\"\n",
              "            style=\"display:none;\">\n",
              "\n",
              "  <svg xmlns=\"http://www.w3.org/2000/svg\" height=\"24px\" viewBox=\"0 -960 960 960\">\n",
              "    <path d=\"M120-120v-720h720v720H120Zm60-500h600v-160H180v160Zm220 220h160v-160H400v160Zm0 220h160v-160H400v160ZM180-400h160v-160H180v160Zm440 0h160v-160H620v160ZM180-180h160v-160H180v160Zm440 0h160v-160H620v160Z\"/>\n",
              "  </svg>\n",
              "    </button>\n",
              "\n",
              "  <style>\n",
              "    .colab-df-container {\n",
              "      display:flex;\n",
              "      gap: 12px;\n",
              "    }\n",
              "\n",
              "    .colab-df-convert {\n",
              "      background-color: #E8F0FE;\n",
              "      border: none;\n",
              "      border-radius: 50%;\n",
              "      cursor: pointer;\n",
              "      display: none;\n",
              "      fill: #1967D2;\n",
              "      height: 32px;\n",
              "      padding: 0 0 0 0;\n",
              "      width: 32px;\n",
              "    }\n",
              "\n",
              "    .colab-df-convert:hover {\n",
              "      background-color: #E2EBFA;\n",
              "      box-shadow: 0px 1px 2px rgba(60, 64, 67, 0.3), 0px 1px 3px 1px rgba(60, 64, 67, 0.15);\n",
              "      fill: #174EA6;\n",
              "    }\n",
              "\n",
              "    .colab-df-buttons div {\n",
              "      margin-bottom: 4px;\n",
              "    }\n",
              "\n",
              "    [theme=dark] .colab-df-convert {\n",
              "      background-color: #3B4455;\n",
              "      fill: #D2E3FC;\n",
              "    }\n",
              "\n",
              "    [theme=dark] .colab-df-convert:hover {\n",
              "      background-color: #434B5C;\n",
              "      box-shadow: 0px 1px 3px 1px rgba(0, 0, 0, 0.15);\n",
              "      filter: drop-shadow(0px 1px 2px rgba(0, 0, 0, 0.3));\n",
              "      fill: #FFFFFF;\n",
              "    }\n",
              "  </style>\n",
              "\n",
              "    <script>\n",
              "      const buttonEl =\n",
              "        document.querySelector('#df-08b4f4a6-b3f4-40dd-9a5e-8bfa59df8e6a button.colab-df-convert');\n",
              "      buttonEl.style.display =\n",
              "        google.colab.kernel.accessAllowed ? 'block' : 'none';\n",
              "\n",
              "      async function convertToInteractive(key) {\n",
              "        const element = document.querySelector('#df-08b4f4a6-b3f4-40dd-9a5e-8bfa59df8e6a');\n",
              "        const dataTable =\n",
              "          await google.colab.kernel.invokeFunction('convertToInteractive',\n",
              "                                                    [key], {});\n",
              "        if (!dataTable) return;\n",
              "\n",
              "        const docLinkHtml = 'Like what you see? Visit the ' +\n",
              "          '<a target=\"_blank\" href=https://colab.research.google.com/notebooks/data_table.ipynb>data table notebook</a>'\n",
              "          + ' to learn more about interactive tables.';\n",
              "        element.innerHTML = '';\n",
              "        dataTable['output_type'] = 'display_data';\n",
              "        await google.colab.output.renderOutput(dataTable, element);\n",
              "        const docLink = document.createElement('div');\n",
              "        docLink.innerHTML = docLinkHtml;\n",
              "        element.appendChild(docLink);\n",
              "      }\n",
              "    </script>\n",
              "  </div>\n",
              "\n",
              "\n",
              "<div id=\"df-bf1be7f8-4532-408a-a816-dcb5994b583f\">\n",
              "  <button class=\"colab-df-quickchart\" onclick=\"quickchart('df-bf1be7f8-4532-408a-a816-dcb5994b583f')\"\n",
              "            title=\"Suggest charts\"\n",
              "            style=\"display:none;\">\n",
              "\n",
              "<svg xmlns=\"http://www.w3.org/2000/svg\" height=\"24px\"viewBox=\"0 0 24 24\"\n",
              "     width=\"24px\">\n",
              "    <g>\n",
              "        <path d=\"M19 3H5c-1.1 0-2 .9-2 2v14c0 1.1.9 2 2 2h14c1.1 0 2-.9 2-2V5c0-1.1-.9-2-2-2zM9 17H7v-7h2v7zm4 0h-2V7h2v10zm4 0h-2v-4h2v4z\"/>\n",
              "    </g>\n",
              "</svg>\n",
              "  </button>\n",
              "\n",
              "<style>\n",
              "  .colab-df-quickchart {\n",
              "      --bg-color: #E8F0FE;\n",
              "      --fill-color: #1967D2;\n",
              "      --hover-bg-color: #E2EBFA;\n",
              "      --hover-fill-color: #174EA6;\n",
              "      --disabled-fill-color: #AAA;\n",
              "      --disabled-bg-color: #DDD;\n",
              "  }\n",
              "\n",
              "  [theme=dark] .colab-df-quickchart {\n",
              "      --bg-color: #3B4455;\n",
              "      --fill-color: #D2E3FC;\n",
              "      --hover-bg-color: #434B5C;\n",
              "      --hover-fill-color: #FFFFFF;\n",
              "      --disabled-bg-color: #3B4455;\n",
              "      --disabled-fill-color: #666;\n",
              "  }\n",
              "\n",
              "  .colab-df-quickchart {\n",
              "    background-color: var(--bg-color);\n",
              "    border: none;\n",
              "    border-radius: 50%;\n",
              "    cursor: pointer;\n",
              "    display: none;\n",
              "    fill: var(--fill-color);\n",
              "    height: 32px;\n",
              "    padding: 0;\n",
              "    width: 32px;\n",
              "  }\n",
              "\n",
              "  .colab-df-quickchart:hover {\n",
              "    background-color: var(--hover-bg-color);\n",
              "    box-shadow: 0 1px 2px rgba(60, 64, 67, 0.3), 0 1px 3px 1px rgba(60, 64, 67, 0.15);\n",
              "    fill: var(--button-hover-fill-color);\n",
              "  }\n",
              "\n",
              "  .colab-df-quickchart-complete:disabled,\n",
              "  .colab-df-quickchart-complete:disabled:hover {\n",
              "    background-color: var(--disabled-bg-color);\n",
              "    fill: var(--disabled-fill-color);\n",
              "    box-shadow: none;\n",
              "  }\n",
              "\n",
              "  .colab-df-spinner {\n",
              "    border: 2px solid var(--fill-color);\n",
              "    border-color: transparent;\n",
              "    border-bottom-color: var(--fill-color);\n",
              "    animation:\n",
              "      spin 1s steps(1) infinite;\n",
              "  }\n",
              "\n",
              "  @keyframes spin {\n",
              "    0% {\n",
              "      border-color: transparent;\n",
              "      border-bottom-color: var(--fill-color);\n",
              "      border-left-color: var(--fill-color);\n",
              "    }\n",
              "    20% {\n",
              "      border-color: transparent;\n",
              "      border-left-color: var(--fill-color);\n",
              "      border-top-color: var(--fill-color);\n",
              "    }\n",
              "    30% {\n",
              "      border-color: transparent;\n",
              "      border-left-color: var(--fill-color);\n",
              "      border-top-color: var(--fill-color);\n",
              "      border-right-color: var(--fill-color);\n",
              "    }\n",
              "    40% {\n",
              "      border-color: transparent;\n",
              "      border-right-color: var(--fill-color);\n",
              "      border-top-color: var(--fill-color);\n",
              "    }\n",
              "    60% {\n",
              "      border-color: transparent;\n",
              "      border-right-color: var(--fill-color);\n",
              "    }\n",
              "    80% {\n",
              "      border-color: transparent;\n",
              "      border-right-color: var(--fill-color);\n",
              "      border-bottom-color: var(--fill-color);\n",
              "    }\n",
              "    90% {\n",
              "      border-color: transparent;\n",
              "      border-bottom-color: var(--fill-color);\n",
              "    }\n",
              "  }\n",
              "</style>\n",
              "\n",
              "  <script>\n",
              "    async function quickchart(key) {\n",
              "      const quickchartButtonEl =\n",
              "        document.querySelector('#' + key + ' button');\n",
              "      quickchartButtonEl.disabled = true;  // To prevent multiple clicks.\n",
              "      quickchartButtonEl.classList.add('colab-df-spinner');\n",
              "      try {\n",
              "        const charts = await google.colab.kernel.invokeFunction(\n",
              "            'suggestCharts', [key], {});\n",
              "      } catch (error) {\n",
              "        console.error('Error during call to suggestCharts:', error);\n",
              "      }\n",
              "      quickchartButtonEl.classList.remove('colab-df-spinner');\n",
              "      quickchartButtonEl.classList.add('colab-df-quickchart-complete');\n",
              "    }\n",
              "    (() => {\n",
              "      let quickchartButtonEl =\n",
              "        document.querySelector('#df-bf1be7f8-4532-408a-a816-dcb5994b583f button');\n",
              "      quickchartButtonEl.style.display =\n",
              "        google.colab.kernel.accessAllowed ? 'block' : 'none';\n",
              "    })();\n",
              "  </script>\n",
              "</div>\n",
              "\n",
              "    </div>\n",
              "  </div>\n"
            ]
          },
          "metadata": {},
          "execution_count": 10
        }
      ]
    },
    {
      "cell_type": "code",
      "source": [
        "nltk.download('all')"
      ],
      "metadata": {
        "colab": {
          "base_uri": "https://localhost:8080/"
        },
        "id": "vPbgKp_k3XLa",
        "outputId": "0d6a4101-126e-4f0e-88b7-33a3e3b3441d"
      },
      "execution_count": 11,
      "outputs": [
        {
          "output_type": "stream",
          "name": "stderr",
          "text": [
            "[nltk_data] Downloading collection 'all'\n",
            "[nltk_data]    | \n",
            "[nltk_data]    | Downloading package abc to /root/nltk_data...\n",
            "[nltk_data]    |   Unzipping corpora/abc.zip.\n",
            "[nltk_data]    | Downloading package alpino to /root/nltk_data...\n",
            "[nltk_data]    |   Unzipping corpora/alpino.zip.\n",
            "[nltk_data]    | Downloading package averaged_perceptron_tagger to\n",
            "[nltk_data]    |     /root/nltk_data...\n",
            "[nltk_data]    |   Unzipping taggers/averaged_perceptron_tagger.zip.\n",
            "[nltk_data]    | Downloading package averaged_perceptron_tagger_ru to\n",
            "[nltk_data]    |     /root/nltk_data...\n",
            "[nltk_data]    |   Unzipping\n",
            "[nltk_data]    |       taggers/averaged_perceptron_tagger_ru.zip.\n",
            "[nltk_data]    | Downloading package basque_grammars to\n",
            "[nltk_data]    |     /root/nltk_data...\n",
            "[nltk_data]    |   Unzipping grammars/basque_grammars.zip.\n",
            "[nltk_data]    | Downloading package bcp47 to /root/nltk_data...\n",
            "[nltk_data]    | Downloading package biocreative_ppi to\n",
            "[nltk_data]    |     /root/nltk_data...\n",
            "[nltk_data]    |   Unzipping corpora/biocreative_ppi.zip.\n",
            "[nltk_data]    | Downloading package bllip_wsj_no_aux to\n",
            "[nltk_data]    |     /root/nltk_data...\n",
            "[nltk_data]    |   Unzipping models/bllip_wsj_no_aux.zip.\n",
            "[nltk_data]    | Downloading package book_grammars to\n",
            "[nltk_data]    |     /root/nltk_data...\n",
            "[nltk_data]    |   Unzipping grammars/book_grammars.zip.\n",
            "[nltk_data]    | Downloading package brown to /root/nltk_data...\n",
            "[nltk_data]    |   Unzipping corpora/brown.zip.\n",
            "[nltk_data]    | Downloading package brown_tei to /root/nltk_data...\n",
            "[nltk_data]    |   Unzipping corpora/brown_tei.zip.\n",
            "[nltk_data]    | Downloading package cess_cat to /root/nltk_data...\n",
            "[nltk_data]    |   Unzipping corpora/cess_cat.zip.\n",
            "[nltk_data]    | Downloading package cess_esp to /root/nltk_data...\n",
            "[nltk_data]    |   Unzipping corpora/cess_esp.zip.\n",
            "[nltk_data]    | Downloading package chat80 to /root/nltk_data...\n",
            "[nltk_data]    |   Unzipping corpora/chat80.zip.\n",
            "[nltk_data]    | Downloading package city_database to\n",
            "[nltk_data]    |     /root/nltk_data...\n",
            "[nltk_data]    |   Unzipping corpora/city_database.zip.\n",
            "[nltk_data]    | Downloading package cmudict to /root/nltk_data...\n",
            "[nltk_data]    |   Unzipping corpora/cmudict.zip.\n",
            "[nltk_data]    | Downloading package comparative_sentences to\n",
            "[nltk_data]    |     /root/nltk_data...\n",
            "[nltk_data]    |   Unzipping corpora/comparative_sentences.zip.\n",
            "[nltk_data]    | Downloading package comtrans to /root/nltk_data...\n",
            "[nltk_data]    | Downloading package conll2000 to /root/nltk_data...\n",
            "[nltk_data]    |   Unzipping corpora/conll2000.zip.\n",
            "[nltk_data]    | Downloading package conll2002 to /root/nltk_data...\n",
            "[nltk_data]    |   Unzipping corpora/conll2002.zip.\n",
            "[nltk_data]    | Downloading package conll2007 to /root/nltk_data...\n",
            "[nltk_data]    | Downloading package crubadan to /root/nltk_data...\n",
            "[nltk_data]    |   Unzipping corpora/crubadan.zip.\n",
            "[nltk_data]    | Downloading package dependency_treebank to\n",
            "[nltk_data]    |     /root/nltk_data...\n",
            "[nltk_data]    |   Unzipping corpora/dependency_treebank.zip.\n",
            "[nltk_data]    | Downloading package dolch to /root/nltk_data...\n",
            "[nltk_data]    |   Unzipping corpora/dolch.zip.\n",
            "[nltk_data]    | Downloading package europarl_raw to\n",
            "[nltk_data]    |     /root/nltk_data...\n",
            "[nltk_data]    |   Unzipping corpora/europarl_raw.zip.\n",
            "[nltk_data]    | Downloading package extended_omw to\n",
            "[nltk_data]    |     /root/nltk_data...\n",
            "[nltk_data]    | Downloading package floresta to /root/nltk_data...\n",
            "[nltk_data]    |   Unzipping corpora/floresta.zip.\n",
            "[nltk_data]    | Downloading package framenet_v15 to\n",
            "[nltk_data]    |     /root/nltk_data...\n",
            "[nltk_data]    |   Unzipping corpora/framenet_v15.zip.\n",
            "[nltk_data]    | Downloading package framenet_v17 to\n",
            "[nltk_data]    |     /root/nltk_data...\n",
            "[nltk_data]    |   Unzipping corpora/framenet_v17.zip.\n",
            "[nltk_data]    | Downloading package gazetteers to /root/nltk_data...\n",
            "[nltk_data]    |   Unzipping corpora/gazetteers.zip.\n",
            "[nltk_data]    | Downloading package genesis to /root/nltk_data...\n",
            "[nltk_data]    |   Unzipping corpora/genesis.zip.\n",
            "[nltk_data]    | Downloading package gutenberg to /root/nltk_data...\n",
            "[nltk_data]    |   Unzipping corpora/gutenberg.zip.\n",
            "[nltk_data]    | Downloading package ieer to /root/nltk_data...\n",
            "[nltk_data]    |   Unzipping corpora/ieer.zip.\n",
            "[nltk_data]    | Downloading package inaugural to /root/nltk_data...\n",
            "[nltk_data]    |   Unzipping corpora/inaugural.zip.\n",
            "[nltk_data]    | Downloading package indian to /root/nltk_data...\n",
            "[nltk_data]    |   Unzipping corpora/indian.zip.\n",
            "[nltk_data]    | Downloading package jeita to /root/nltk_data...\n",
            "[nltk_data]    | Downloading package kimmo to /root/nltk_data...\n",
            "[nltk_data]    |   Unzipping corpora/kimmo.zip.\n",
            "[nltk_data]    | Downloading package knbc to /root/nltk_data...\n",
            "[nltk_data]    | Downloading package large_grammars to\n",
            "[nltk_data]    |     /root/nltk_data...\n",
            "[nltk_data]    |   Unzipping grammars/large_grammars.zip.\n",
            "[nltk_data]    | Downloading package lin_thesaurus to\n",
            "[nltk_data]    |     /root/nltk_data...\n",
            "[nltk_data]    |   Unzipping corpora/lin_thesaurus.zip.\n",
            "[nltk_data]    | Downloading package mac_morpho to /root/nltk_data...\n",
            "[nltk_data]    |   Unzipping corpora/mac_morpho.zip.\n",
            "[nltk_data]    | Downloading package machado to /root/nltk_data...\n",
            "[nltk_data]    | Downloading package masc_tagged to /root/nltk_data...\n",
            "[nltk_data]    | Downloading package maxent_ne_chunker to\n",
            "[nltk_data]    |     /root/nltk_data...\n",
            "[nltk_data]    |   Unzipping chunkers/maxent_ne_chunker.zip.\n",
            "[nltk_data]    | Downloading package maxent_treebank_pos_tagger to\n",
            "[nltk_data]    |     /root/nltk_data...\n",
            "[nltk_data]    |   Unzipping taggers/maxent_treebank_pos_tagger.zip.\n",
            "[nltk_data]    | Downloading package moses_sample to\n",
            "[nltk_data]    |     /root/nltk_data...\n",
            "[nltk_data]    |   Unzipping models/moses_sample.zip.\n",
            "[nltk_data]    | Downloading package movie_reviews to\n",
            "[nltk_data]    |     /root/nltk_data...\n",
            "[nltk_data]    |   Unzipping corpora/movie_reviews.zip.\n",
            "[nltk_data]    | Downloading package mte_teip5 to /root/nltk_data...\n",
            "[nltk_data]    |   Unzipping corpora/mte_teip5.zip.\n",
            "[nltk_data]    | Downloading package mwa_ppdb to /root/nltk_data...\n",
            "[nltk_data]    |   Unzipping misc/mwa_ppdb.zip.\n",
            "[nltk_data]    | Downloading package names to /root/nltk_data...\n",
            "[nltk_data]    |   Unzipping corpora/names.zip.\n",
            "[nltk_data]    | Downloading package nombank.1.0 to /root/nltk_data...\n",
            "[nltk_data]    | Downloading package nonbreaking_prefixes to\n",
            "[nltk_data]    |     /root/nltk_data...\n",
            "[nltk_data]    |   Unzipping corpora/nonbreaking_prefixes.zip.\n",
            "[nltk_data]    | Downloading package nps_chat to /root/nltk_data...\n",
            "[nltk_data]    |   Unzipping corpora/nps_chat.zip.\n",
            "[nltk_data]    | Downloading package omw to /root/nltk_data...\n",
            "[nltk_data]    | Downloading package omw-1.4 to /root/nltk_data...\n",
            "[nltk_data]    | Downloading package opinion_lexicon to\n",
            "[nltk_data]    |     /root/nltk_data...\n",
            "[nltk_data]    |   Unzipping corpora/opinion_lexicon.zip.\n",
            "[nltk_data]    | Downloading package panlex_swadesh to\n",
            "[nltk_data]    |     /root/nltk_data...\n",
            "[nltk_data]    | Downloading package paradigms to /root/nltk_data...\n",
            "[nltk_data]    |   Unzipping corpora/paradigms.zip.\n",
            "[nltk_data]    | Downloading package pe08 to /root/nltk_data...\n",
            "[nltk_data]    |   Unzipping corpora/pe08.zip.\n",
            "[nltk_data]    | Downloading package perluniprops to\n",
            "[nltk_data]    |     /root/nltk_data...\n",
            "[nltk_data]    |   Unzipping misc/perluniprops.zip.\n",
            "[nltk_data]    | Downloading package pil to /root/nltk_data...\n",
            "[nltk_data]    |   Unzipping corpora/pil.zip.\n",
            "[nltk_data]    | Downloading package pl196x to /root/nltk_data...\n",
            "[nltk_data]    |   Unzipping corpora/pl196x.zip.\n",
            "[nltk_data]    | Downloading package porter_test to /root/nltk_data...\n",
            "[nltk_data]    |   Unzipping stemmers/porter_test.zip.\n",
            "[nltk_data]    | Downloading package ppattach to /root/nltk_data...\n",
            "[nltk_data]    |   Unzipping corpora/ppattach.zip.\n",
            "[nltk_data]    | Downloading package problem_reports to\n",
            "[nltk_data]    |     /root/nltk_data...\n",
            "[nltk_data]    |   Unzipping corpora/problem_reports.zip.\n",
            "[nltk_data]    | Downloading package product_reviews_1 to\n",
            "[nltk_data]    |     /root/nltk_data...\n",
            "[nltk_data]    |   Unzipping corpora/product_reviews_1.zip.\n",
            "[nltk_data]    | Downloading package product_reviews_2 to\n",
            "[nltk_data]    |     /root/nltk_data...\n",
            "[nltk_data]    |   Unzipping corpora/product_reviews_2.zip.\n",
            "[nltk_data]    | Downloading package propbank to /root/nltk_data...\n",
            "[nltk_data]    | Downloading package pros_cons to /root/nltk_data...\n",
            "[nltk_data]    |   Unzipping corpora/pros_cons.zip.\n",
            "[nltk_data]    | Downloading package ptb to /root/nltk_data...\n",
            "[nltk_data]    |   Unzipping corpora/ptb.zip.\n",
            "[nltk_data]    | Downloading package punkt to /root/nltk_data...\n",
            "[nltk_data]    |   Unzipping tokenizers/punkt.zip.\n",
            "[nltk_data]    | Downloading package qc to /root/nltk_data...\n",
            "[nltk_data]    |   Unzipping corpora/qc.zip.\n",
            "[nltk_data]    | Downloading package reuters to /root/nltk_data...\n",
            "[nltk_data]    | Downloading package rslp to /root/nltk_data...\n",
            "[nltk_data]    |   Unzipping stemmers/rslp.zip.\n",
            "[nltk_data]    | Downloading package rte to /root/nltk_data...\n",
            "[nltk_data]    |   Unzipping corpora/rte.zip.\n",
            "[nltk_data]    | Downloading package sample_grammars to\n",
            "[nltk_data]    |     /root/nltk_data...\n",
            "[nltk_data]    |   Unzipping grammars/sample_grammars.zip.\n",
            "[nltk_data]    | Downloading package semcor to /root/nltk_data...\n",
            "[nltk_data]    | Downloading package senseval to /root/nltk_data...\n",
            "[nltk_data]    |   Unzipping corpora/senseval.zip.\n",
            "[nltk_data]    | Downloading package sentence_polarity to\n",
            "[nltk_data]    |     /root/nltk_data...\n",
            "[nltk_data]    |   Unzipping corpora/sentence_polarity.zip.\n",
            "[nltk_data]    | Downloading package sentiwordnet to\n",
            "[nltk_data]    |     /root/nltk_data...\n",
            "[nltk_data]    |   Unzipping corpora/sentiwordnet.zip.\n",
            "[nltk_data]    | Downloading package shakespeare to /root/nltk_data...\n",
            "[nltk_data]    |   Unzipping corpora/shakespeare.zip.\n",
            "[nltk_data]    | Downloading package sinica_treebank to\n",
            "[nltk_data]    |     /root/nltk_data...\n",
            "[nltk_data]    |   Unzipping corpora/sinica_treebank.zip.\n",
            "[nltk_data]    | Downloading package smultron to /root/nltk_data...\n",
            "[nltk_data]    |   Unzipping corpora/smultron.zip.\n",
            "[nltk_data]    | Downloading package snowball_data to\n",
            "[nltk_data]    |     /root/nltk_data...\n",
            "[nltk_data]    | Downloading package spanish_grammars to\n",
            "[nltk_data]    |     /root/nltk_data...\n",
            "[nltk_data]    |   Unzipping grammars/spanish_grammars.zip.\n",
            "[nltk_data]    | Downloading package state_union to /root/nltk_data...\n",
            "[nltk_data]    |   Unzipping corpora/state_union.zip.\n",
            "[nltk_data]    | Downloading package stopwords to /root/nltk_data...\n",
            "[nltk_data]    |   Unzipping corpora/stopwords.zip.\n",
            "[nltk_data]    | Downloading package subjectivity to\n",
            "[nltk_data]    |     /root/nltk_data...\n",
            "[nltk_data]    |   Unzipping corpora/subjectivity.zip.\n",
            "[nltk_data]    | Downloading package swadesh to /root/nltk_data...\n",
            "[nltk_data]    |   Unzipping corpora/swadesh.zip.\n",
            "[nltk_data]    | Downloading package switchboard to /root/nltk_data...\n",
            "[nltk_data]    |   Unzipping corpora/switchboard.zip.\n",
            "[nltk_data]    | Downloading package tagsets to /root/nltk_data...\n",
            "[nltk_data]    |   Unzipping help/tagsets.zip.\n",
            "[nltk_data]    | Downloading package timit to /root/nltk_data...\n",
            "[nltk_data]    |   Unzipping corpora/timit.zip.\n",
            "[nltk_data]    | Downloading package toolbox to /root/nltk_data...\n",
            "[nltk_data]    |   Unzipping corpora/toolbox.zip.\n",
            "[nltk_data]    | Downloading package treebank to /root/nltk_data...\n",
            "[nltk_data]    |   Unzipping corpora/treebank.zip.\n",
            "[nltk_data]    | Downloading package twitter_samples to\n",
            "[nltk_data]    |     /root/nltk_data...\n",
            "[nltk_data]    |   Unzipping corpora/twitter_samples.zip.\n",
            "[nltk_data]    | Downloading package udhr to /root/nltk_data...\n",
            "[nltk_data]    |   Unzipping corpora/udhr.zip.\n",
            "[nltk_data]    | Downloading package udhr2 to /root/nltk_data...\n",
            "[nltk_data]    |   Unzipping corpora/udhr2.zip.\n",
            "[nltk_data]    | Downloading package unicode_samples to\n",
            "[nltk_data]    |     /root/nltk_data...\n",
            "[nltk_data]    |   Unzipping corpora/unicode_samples.zip.\n",
            "[nltk_data]    | Downloading package universal_tagset to\n",
            "[nltk_data]    |     /root/nltk_data...\n",
            "[nltk_data]    |   Unzipping taggers/universal_tagset.zip.\n",
            "[nltk_data]    | Downloading package universal_treebanks_v20 to\n",
            "[nltk_data]    |     /root/nltk_data...\n",
            "[nltk_data]    | Downloading package vader_lexicon to\n",
            "[nltk_data]    |     /root/nltk_data...\n",
            "[nltk_data]    | Downloading package verbnet to /root/nltk_data...\n",
            "[nltk_data]    |   Unzipping corpora/verbnet.zip.\n",
            "[nltk_data]    | Downloading package verbnet3 to /root/nltk_data...\n",
            "[nltk_data]    |   Unzipping corpora/verbnet3.zip.\n",
            "[nltk_data]    | Downloading package webtext to /root/nltk_data...\n",
            "[nltk_data]    |   Unzipping corpora/webtext.zip.\n",
            "[nltk_data]    | Downloading package wmt15_eval to /root/nltk_data...\n",
            "[nltk_data]    |   Unzipping models/wmt15_eval.zip.\n",
            "[nltk_data]    | Downloading package word2vec_sample to\n",
            "[nltk_data]    |     /root/nltk_data...\n",
            "[nltk_data]    |   Unzipping models/word2vec_sample.zip.\n",
            "[nltk_data]    | Downloading package wordnet to /root/nltk_data...\n",
            "[nltk_data]    | Downloading package wordnet2021 to /root/nltk_data...\n",
            "[nltk_data]    | Downloading package wordnet2022 to /root/nltk_data...\n",
            "[nltk_data]    |   Unzipping corpora/wordnet2022.zip.\n",
            "[nltk_data]    | Downloading package wordnet31 to /root/nltk_data...\n",
            "[nltk_data]    | Downloading package wordnet_ic to /root/nltk_data...\n",
            "[nltk_data]    |   Unzipping corpora/wordnet_ic.zip.\n",
            "[nltk_data]    | Downloading package words to /root/nltk_data...\n",
            "[nltk_data]    |   Unzipping corpora/words.zip.\n",
            "[nltk_data]    | Downloading package ycoe to /root/nltk_data...\n",
            "[nltk_data]    |   Unzipping corpora/ycoe.zip.\n",
            "[nltk_data]    | \n",
            "[nltk_data]  Done downloading collection all\n"
          ]
        },
        {
          "output_type": "execute_result",
          "data": {
            "text/plain": [
              "True"
            ]
          },
          "metadata": {},
          "execution_count": 11
        }
      ]
    },
    {
      "cell_type": "code",
      "source": [
        "from nltk import sent_tokenize\n",
        "from gensim.utils import simple_preprocess"
      ],
      "metadata": {
        "id": "Sb4Wl3mD3a6w"
      },
      "execution_count": 12,
      "outputs": []
    },
    {
      "cell_type": "code",
      "source": [
        "data.head()"
      ],
      "metadata": {
        "colab": {
          "base_uri": "https://localhost:8080/",
          "height": 206
        },
        "id": "TgOg9p4A3ebV",
        "outputId": "be730c1f-010b-4e9b-c4f0-d37d6a172d16"
      },
      "execution_count": 13,
      "outputs": [
        {
          "output_type": "execute_result",
          "data": {
            "text/plain": [
              "   tweet_id     author_id  inbound                      created_at  \\\n",
              "0    119237        105834     True  Wed Oct 11 06:55:44 +0000 2017   \n",
              "1    119238  ChaseSupport    False  Wed Oct 11 13:25:49 +0000 2017   \n",
              "2    119239        105835     True  Wed Oct 11 13:00:09 +0000 2017   \n",
              "3    119240  VirginTrains    False  Tue Oct 10 15:16:08 +0000 2017   \n",
              "4    119241        105836     True  Tue Oct 10 15:17:21 +0000 2017   \n",
              "\n",
              "                                                text response_tweet_id  \\\n",
              "0  @AppleSupport causing the reply to be disregar...            119236   \n",
              "1  @105835 Your business means a lot to us. Pleas...               NaN   \n",
              "2  @76328 I really hope you all change but I'm su...            119238   \n",
              "3  @105836 LiveChat is online at the moment - htt...            119241   \n",
              "4  @VirginTrains see attached error message. I've...            119243   \n",
              "\n",
              "   in_response_to_tweet_id  \n",
              "0                      NaN  \n",
              "1                 119239.0  \n",
              "2                      NaN  \n",
              "3                 119242.0  \n",
              "4                 119240.0  "
            ],
            "text/html": [
              "\n",
              "  <div id=\"df-aa24ef63-e207-47a6-b640-72c28d0aa654\" class=\"colab-df-container\">\n",
              "    <div>\n",
              "<style scoped>\n",
              "    .dataframe tbody tr th:only-of-type {\n",
              "        vertical-align: middle;\n",
              "    }\n",
              "\n",
              "    .dataframe tbody tr th {\n",
              "        vertical-align: top;\n",
              "    }\n",
              "\n",
              "    .dataframe thead th {\n",
              "        text-align: right;\n",
              "    }\n",
              "</style>\n",
              "<table border=\"1\" class=\"dataframe\">\n",
              "  <thead>\n",
              "    <tr style=\"text-align: right;\">\n",
              "      <th></th>\n",
              "      <th>tweet_id</th>\n",
              "      <th>author_id</th>\n",
              "      <th>inbound</th>\n",
              "      <th>created_at</th>\n",
              "      <th>text</th>\n",
              "      <th>response_tweet_id</th>\n",
              "      <th>in_response_to_tweet_id</th>\n",
              "    </tr>\n",
              "  </thead>\n",
              "  <tbody>\n",
              "    <tr>\n",
              "      <th>0</th>\n",
              "      <td>119237</td>\n",
              "      <td>105834</td>\n",
              "      <td>True</td>\n",
              "      <td>Wed Oct 11 06:55:44 +0000 2017</td>\n",
              "      <td>@AppleSupport causing the reply to be disregar...</td>\n",
              "      <td>119236</td>\n",
              "      <td>NaN</td>\n",
              "    </tr>\n",
              "    <tr>\n",
              "      <th>1</th>\n",
              "      <td>119238</td>\n",
              "      <td>ChaseSupport</td>\n",
              "      <td>False</td>\n",
              "      <td>Wed Oct 11 13:25:49 +0000 2017</td>\n",
              "      <td>@105835 Your business means a lot to us. Pleas...</td>\n",
              "      <td>NaN</td>\n",
              "      <td>119239.0</td>\n",
              "    </tr>\n",
              "    <tr>\n",
              "      <th>2</th>\n",
              "      <td>119239</td>\n",
              "      <td>105835</td>\n",
              "      <td>True</td>\n",
              "      <td>Wed Oct 11 13:00:09 +0000 2017</td>\n",
              "      <td>@76328 I really hope you all change but I'm su...</td>\n",
              "      <td>119238</td>\n",
              "      <td>NaN</td>\n",
              "    </tr>\n",
              "    <tr>\n",
              "      <th>3</th>\n",
              "      <td>119240</td>\n",
              "      <td>VirginTrains</td>\n",
              "      <td>False</td>\n",
              "      <td>Tue Oct 10 15:16:08 +0000 2017</td>\n",
              "      <td>@105836 LiveChat is online at the moment - htt...</td>\n",
              "      <td>119241</td>\n",
              "      <td>119242.0</td>\n",
              "    </tr>\n",
              "    <tr>\n",
              "      <th>4</th>\n",
              "      <td>119241</td>\n",
              "      <td>105836</td>\n",
              "      <td>True</td>\n",
              "      <td>Tue Oct 10 15:17:21 +0000 2017</td>\n",
              "      <td>@VirginTrains see attached error message. I've...</td>\n",
              "      <td>119243</td>\n",
              "      <td>119240.0</td>\n",
              "    </tr>\n",
              "  </tbody>\n",
              "</table>\n",
              "</div>\n",
              "    <div class=\"colab-df-buttons\">\n",
              "\n",
              "  <div class=\"colab-df-container\">\n",
              "    <button class=\"colab-df-convert\" onclick=\"convertToInteractive('df-aa24ef63-e207-47a6-b640-72c28d0aa654')\"\n",
              "            title=\"Convert this dataframe to an interactive table.\"\n",
              "            style=\"display:none;\">\n",
              "\n",
              "  <svg xmlns=\"http://www.w3.org/2000/svg\" height=\"24px\" viewBox=\"0 -960 960 960\">\n",
              "    <path d=\"M120-120v-720h720v720H120Zm60-500h600v-160H180v160Zm220 220h160v-160H400v160Zm0 220h160v-160H400v160ZM180-400h160v-160H180v160Zm440 0h160v-160H620v160ZM180-180h160v-160H180v160Zm440 0h160v-160H620v160Z\"/>\n",
              "  </svg>\n",
              "    </button>\n",
              "\n",
              "  <style>\n",
              "    .colab-df-container {\n",
              "      display:flex;\n",
              "      gap: 12px;\n",
              "    }\n",
              "\n",
              "    .colab-df-convert {\n",
              "      background-color: #E8F0FE;\n",
              "      border: none;\n",
              "      border-radius: 50%;\n",
              "      cursor: pointer;\n",
              "      display: none;\n",
              "      fill: #1967D2;\n",
              "      height: 32px;\n",
              "      padding: 0 0 0 0;\n",
              "      width: 32px;\n",
              "    }\n",
              "\n",
              "    .colab-df-convert:hover {\n",
              "      background-color: #E2EBFA;\n",
              "      box-shadow: 0px 1px 2px rgba(60, 64, 67, 0.3), 0px 1px 3px 1px rgba(60, 64, 67, 0.15);\n",
              "      fill: #174EA6;\n",
              "    }\n",
              "\n",
              "    .colab-df-buttons div {\n",
              "      margin-bottom: 4px;\n",
              "    }\n",
              "\n",
              "    [theme=dark] .colab-df-convert {\n",
              "      background-color: #3B4455;\n",
              "      fill: #D2E3FC;\n",
              "    }\n",
              "\n",
              "    [theme=dark] .colab-df-convert:hover {\n",
              "      background-color: #434B5C;\n",
              "      box-shadow: 0px 1px 3px 1px rgba(0, 0, 0, 0.15);\n",
              "      filter: drop-shadow(0px 1px 2px rgba(0, 0, 0, 0.3));\n",
              "      fill: #FFFFFF;\n",
              "    }\n",
              "  </style>\n",
              "\n",
              "    <script>\n",
              "      const buttonEl =\n",
              "        document.querySelector('#df-aa24ef63-e207-47a6-b640-72c28d0aa654 button.colab-df-convert');\n",
              "      buttonEl.style.display =\n",
              "        google.colab.kernel.accessAllowed ? 'block' : 'none';\n",
              "\n",
              "      async function convertToInteractive(key) {\n",
              "        const element = document.querySelector('#df-aa24ef63-e207-47a6-b640-72c28d0aa654');\n",
              "        const dataTable =\n",
              "          await google.colab.kernel.invokeFunction('convertToInteractive',\n",
              "                                                    [key], {});\n",
              "        if (!dataTable) return;\n",
              "\n",
              "        const docLinkHtml = 'Like what you see? Visit the ' +\n",
              "          '<a target=\"_blank\" href=https://colab.research.google.com/notebooks/data_table.ipynb>data table notebook</a>'\n",
              "          + ' to learn more about interactive tables.';\n",
              "        element.innerHTML = '';\n",
              "        dataTable['output_type'] = 'display_data';\n",
              "        await google.colab.output.renderOutput(dataTable, element);\n",
              "        const docLink = document.createElement('div');\n",
              "        docLink.innerHTML = docLinkHtml;\n",
              "        element.appendChild(docLink);\n",
              "      }\n",
              "    </script>\n",
              "  </div>\n",
              "\n",
              "\n",
              "<div id=\"df-545a5432-055c-4b70-9279-450441e69d8b\">\n",
              "  <button class=\"colab-df-quickchart\" onclick=\"quickchart('df-545a5432-055c-4b70-9279-450441e69d8b')\"\n",
              "            title=\"Suggest charts\"\n",
              "            style=\"display:none;\">\n",
              "\n",
              "<svg xmlns=\"http://www.w3.org/2000/svg\" height=\"24px\"viewBox=\"0 0 24 24\"\n",
              "     width=\"24px\">\n",
              "    <g>\n",
              "        <path d=\"M19 3H5c-1.1 0-2 .9-2 2v14c0 1.1.9 2 2 2h14c1.1 0 2-.9 2-2V5c0-1.1-.9-2-2-2zM9 17H7v-7h2v7zm4 0h-2V7h2v10zm4 0h-2v-4h2v4z\"/>\n",
              "    </g>\n",
              "</svg>\n",
              "  </button>\n",
              "\n",
              "<style>\n",
              "  .colab-df-quickchart {\n",
              "      --bg-color: #E8F0FE;\n",
              "      --fill-color: #1967D2;\n",
              "      --hover-bg-color: #E2EBFA;\n",
              "      --hover-fill-color: #174EA6;\n",
              "      --disabled-fill-color: #AAA;\n",
              "      --disabled-bg-color: #DDD;\n",
              "  }\n",
              "\n",
              "  [theme=dark] .colab-df-quickchart {\n",
              "      --bg-color: #3B4455;\n",
              "      --fill-color: #D2E3FC;\n",
              "      --hover-bg-color: #434B5C;\n",
              "      --hover-fill-color: #FFFFFF;\n",
              "      --disabled-bg-color: #3B4455;\n",
              "      --disabled-fill-color: #666;\n",
              "  }\n",
              "\n",
              "  .colab-df-quickchart {\n",
              "    background-color: var(--bg-color);\n",
              "    border: none;\n",
              "    border-radius: 50%;\n",
              "    cursor: pointer;\n",
              "    display: none;\n",
              "    fill: var(--fill-color);\n",
              "    height: 32px;\n",
              "    padding: 0;\n",
              "    width: 32px;\n",
              "  }\n",
              "\n",
              "  .colab-df-quickchart:hover {\n",
              "    background-color: var(--hover-bg-color);\n",
              "    box-shadow: 0 1px 2px rgba(60, 64, 67, 0.3), 0 1px 3px 1px rgba(60, 64, 67, 0.15);\n",
              "    fill: var(--button-hover-fill-color);\n",
              "  }\n",
              "\n",
              "  .colab-df-quickchart-complete:disabled,\n",
              "  .colab-df-quickchart-complete:disabled:hover {\n",
              "    background-color: var(--disabled-bg-color);\n",
              "    fill: var(--disabled-fill-color);\n",
              "    box-shadow: none;\n",
              "  }\n",
              "\n",
              "  .colab-df-spinner {\n",
              "    border: 2px solid var(--fill-color);\n",
              "    border-color: transparent;\n",
              "    border-bottom-color: var(--fill-color);\n",
              "    animation:\n",
              "      spin 1s steps(1) infinite;\n",
              "  }\n",
              "\n",
              "  @keyframes spin {\n",
              "    0% {\n",
              "      border-color: transparent;\n",
              "      border-bottom-color: var(--fill-color);\n",
              "      border-left-color: var(--fill-color);\n",
              "    }\n",
              "    20% {\n",
              "      border-color: transparent;\n",
              "      border-left-color: var(--fill-color);\n",
              "      border-top-color: var(--fill-color);\n",
              "    }\n",
              "    30% {\n",
              "      border-color: transparent;\n",
              "      border-left-color: var(--fill-color);\n",
              "      border-top-color: var(--fill-color);\n",
              "      border-right-color: var(--fill-color);\n",
              "    }\n",
              "    40% {\n",
              "      border-color: transparent;\n",
              "      border-right-color: var(--fill-color);\n",
              "      border-top-color: var(--fill-color);\n",
              "    }\n",
              "    60% {\n",
              "      border-color: transparent;\n",
              "      border-right-color: var(--fill-color);\n",
              "    }\n",
              "    80% {\n",
              "      border-color: transparent;\n",
              "      border-right-color: var(--fill-color);\n",
              "      border-bottom-color: var(--fill-color);\n",
              "    }\n",
              "    90% {\n",
              "      border-color: transparent;\n",
              "      border-bottom-color: var(--fill-color);\n",
              "    }\n",
              "  }\n",
              "</style>\n",
              "\n",
              "  <script>\n",
              "    async function quickchart(key) {\n",
              "      const quickchartButtonEl =\n",
              "        document.querySelector('#' + key + ' button');\n",
              "      quickchartButtonEl.disabled = true;  // To prevent multiple clicks.\n",
              "      quickchartButtonEl.classList.add('colab-df-spinner');\n",
              "      try {\n",
              "        const charts = await google.colab.kernel.invokeFunction(\n",
              "            'suggestCharts', [key], {});\n",
              "      } catch (error) {\n",
              "        console.error('Error during call to suggestCharts:', error);\n",
              "      }\n",
              "      quickchartButtonEl.classList.remove('colab-df-spinner');\n",
              "      quickchartButtonEl.classList.add('colab-df-quickchart-complete');\n",
              "    }\n",
              "    (() => {\n",
              "      let quickchartButtonEl =\n",
              "        document.querySelector('#df-545a5432-055c-4b70-9279-450441e69d8b button');\n",
              "      quickchartButtonEl.style.display =\n",
              "        google.colab.kernel.accessAllowed ? 'block' : 'none';\n",
              "    })();\n",
              "  </script>\n",
              "</div>\n",
              "\n",
              "    </div>\n",
              "  </div>\n"
            ]
          },
          "metadata": {},
          "execution_count": 13
        }
      ]
    },
    {
      "cell_type": "code",
      "source": [
        "processed_data = list(data['text'].apply(lambda x : simple_preprocess(x)))\n",
        "print(processed_data)"
      ],
      "metadata": {
        "colab": {
          "base_uri": "https://localhost:8080/"
        },
        "id": "-ur1bkOu30dy",
        "outputId": "5af8d7d9-a427-4f09-a693-0696610573d3"
      },
      "execution_count": 14,
      "outputs": [
        {
          "output_type": "stream",
          "name": "stdout",
          "text": [
            "[['applesupport', 'causing', 'the', 'reply', 'to', 'be', 'disregarded', 'and', 'the', 'tapped', 'notification', 'under', 'the', 'keyboard', 'is', 'opened'], ['your', 'business', 'means', 'lot', 'to', 'us', 'please', 'dm', 'your', 'name', 'zip', 'code', 'and', 'additional', 'details', 'about', 'your', 'concern', 'rr', 'https', 'co', 'znuu', 'vjn'], ['really', 'hope', 'you', 'all', 'change', 'but', 'sure', 'you', 'won', 'because', 'you', 'don', 'have', 'to'], ['livechat', 'is', 'online', 'at', 'the', 'moment', 'https', 'co', 'sy', 'vtu', 'kq', 'or', 'contact', 'option', 'leave', 'message', 'to', 'request', 'call', 'back'], ['virgintrains', 'see', 'attached', 'error', 'message', 've', 'tried', 'leaving', 'voicemail', 'several', 'times', 'in', 'the', 'past', 'week', 'https', 'co', 'nxvzjlyx'], ['have', 'you', 'tried', 'from', 'another', 'device', 'miriam', 'mm'], ['virgintrains', 'yep', 've', 'tried', 'laptop', 'too', 'several', 'times', 'over', 'the', 'past', 'week', 'and', 'again', 'today', 've', 'tried', 'different', 'browsers', 'too'], ['it', 'working', 'ok', 'from', 'here', 'miriam', 'does', 'this', 'link', 'help', 'https', 'co', 'mph', 'eh', 'mm'], ['virgintrains', 'still', 'haven', 'heard', 'amp', 'the', 'number', 'directed', 'to', 'by', 'phone', 'is', 'dead', 'end', 'amp', 'the', 'live', 'chat', 'doesn', 'work', 'can', 'someone', 'call', 'me'], ['that', 'what', 'we', 're', 'here', 'for', 'miriam', 'the', 'team', 'should', 'send', 'you', 'an', 'email', 'shortly', 'hp'], ['we', 'can', 'help', 'which', 'version', 'of', 'ios', 'are', 'you', 'on', 'you', 'can', 'find', 'that', 'in', 'settings', 'gt', 'general', 'gt', 'about', 'reply', 'in', 'dm', 'https', 'co', 'gdrqu', 'ypt'], ['applesupport', 'me', 'too', 'am', 'suffering', 'hope', 'the', 'can', 'find', 'solution'], ['applesupport', 'hi', 'apple', 've', 'concern', 'about', 'the', 'latest', 'ios', 'is', 'too', 'slow', 'on', 'iphone', 'and', 'am', 'not', 'happy', 'with', 'it', 'any', 'solution', 'please'], ['thanks', 'for', 'reaching', 'out', 'to', 'us', 'we', 'are', 'always', 'happy', 'to', 'help', 'send', 'us', 'dm', 'so', 'we', 'can', 'look', 'into', 'this', 'together', 'https', 'co', 'gdrqu', 'ypt'], ['just', 'updated', 'my', 'phone', 'and', 'suddenly', 'everything', 'takes', 'ages', 'to', 'load', 'wtf', 'this', 'update', 'sux', 'hate', 'it', 'fix', 'it', 'bye'], ['hi', 'there', 'what', 'device', 'is', 'this', 'happening', 'on', 'if', 'you', 'could', 'also', 'let', 'us', 'know', 'the', 'android', 'and', 'spotify', 'versions', 'you', 're', 'using', 'that', 'be', 'great', 'ay'], ['spotifycares', 'thanks', 'version', 'armv', 'on', 'anker', 'bluetooth', 'speaker', 'on', 'samsung', 'galaxy', 'tab', 'model', 'sm', 'does', 'distance', 'from', 'speaker', 'matter'], ['thanks', 'the', 'distance', 'could', 'possibly', 'affect', 'playback', 'does', 'logging', 'out', 'gt', 'restarting', 'your', 'device', 'gt', 'logging', 'back', 'in', 'make', 'difference', 'ay'], ['spotifycares', 'no', 'but', 've', 'moved', 'speaker', 'to', 'about', 'metre', 'away', 'and', 'it', 'not', 'skipping', 'at', 'the', 'mo', 'it', 'was', 'about', 'or', 'metres', 'away', 'before', 'fingers', 'crossed'], ['that', 'great', 'to', 'hear', 'if', 'anything', 'comes', 'up', 'just', 'let', 'us', 'know', 'we', 'll', 'carry', 'on', 'helping', 'out', 'ay'], ['spotifycares', 'brilliant', 'thanks'], ['you', 're', 'welcome', 'if', 'there', 'anything', 'else', 'we', 'can', 'help', 'with', 'just', 'give', 'us', 'shout', 'we', 're', 'here', 'for', 'you', 'cp'], ['please', 'help', 'spotify', 'premium', 'skipping', 'through', 'songs', 'constantly', 'on', 'android', 'tablet', 'amp', 'bluetooth', 'speaker', 'tried', 'everything'], ['we', 'love', 'to', 'help', 'please', 'dm', 'us', 'and', 'let', 'us', 'know', 'any', 'steps', 'you', 've', 'tried', 'since', 'experiencing', 'these', 'behaviors', 'https', 'co', 'gdrqu', 'ypt'], ['applesupport', 'after', 'the', 'my', 'phone', 'just', 'sucks', 'most', 'of', 'the', 'apps', 'are', 'broken', 'wifi', 'disconnects', 'frequently', 'apple', 'ios', 'painfulupdate'], ['we', 're', 'sorry', 'your', 'flight', 'has', 'been', 'delayed', 'beatner', 'are', 'you', 'travelling', 'on', 'the', 'ba', 'if', 'so', 'the', 'updated', 'departure', 'time', 'we', 'have', 'is'], ['first', 'flight', 'for', 'long', 'time', 'with', 'british_airways', 'now', 'over', 'one', 'delay', 'for', 'the', 'short', 'jump', 'fra', 'lcy', 'and', 'no', 'one', 'here', 'to', 'provide', 'status', 'updates'], ['battery', 'life', 'is', 'important', 'and', 'we', 're', 'here', 'for', 'you', 'dm', 'us', 'the', 'ios', 'version', 'your', 'iphone', 'is', 'running', 'we', 'll', 'go', 'from', 'there', 'https', 'co', 'gdrqu', 'ypt'], ['okay', 'used', 'my', 'fucking', 'phone', 'for', 'minutes', 'and', 'it', 'drains', 'it', 'down', 'fucking', 'percent'], ['thanks', 'for', 'reaching', 'out', 'to', 'us', 'we', 'are', 'always', 'happy', 'to', 'help', 'send', 'us', 'dm', 'so', 'we', 'can', 'look', 'into', 'this', 'together', 'https', 'co', 'gdrqu', 'ypt'], ['applesupport', 'can', 'you', 'get', 'my', 'iphone', 'plus', 'back', 'on', 'the', 'old', 'ios', 'please', 'battery', 'runs', 'out', 'in', 'half', 'the', 'time', 'apps', 'now', 'frequently', 'crash'], ['we', 'be', 'happy', 'to', 'help', 'send', 'us', 'dm', 'and', 'we', 'can', 'start', 'there', 'https', 'co', 'gdrqu', 'ypt'], ['you', 've', 'paralysed', 'my', 'phone', 'with', 'your', 'update', 'grrrrrrrrrr'], ['we', 'like', 'to', 'help', 'sam', 'which', 'number', 'is', 'calling', 'you', 'please', 'dm', 'us', 'more', 'info', 'so', 'we', 'can', 'advise', 'further', 'https', 'co', 'pyldjbc'], ['received', 'this', 'few', 'weeks', 'ago', 'since', 'then', 've', 'been', 'getting', 'calls', 'day', 'from', 'telemarketer', 'is', 'someone', 'using', 'your', 'name', 'https', 'co', 'gltz', 'xhcex'], ['understand', 'this', 'is', 'frustrating', 'experience', 'please', 'send', 'dm', 'with', 'your', 'account', 'information', 'so', 'can', 'look', 'into', 'this', 'matter', 'for', 'you', 'ad'], ['my', 'internet', 'is', 'down', 'and', 'xfinity', 'talkin', 'about', 'hours', 'all', 'have', 'the', 'game', 'messed', 'up'], ['understand', 'how', 'you', 'frustrated', 'this', 'situation', 'can', 'be', 'please', 'follow', 'us', 'by', 'sending', 'dm', 'for', 'further', 'assistance', 'sprint', 'cares', 'ac'], ['service', 'last', 'min', 'sprint', 'can', 'get', 'refund', 'https', 'co', 'wypw', 'hp', 'wt'], ['we', 'like', 'to', 'help', 'what', 'happens', 'when', 'you', 'try', 'to', 'listen', 'to', 'apple', 'music', 'amp', 'use', 'whatsapp', 'does', 'the', 'music', 'pause', 'let', 'us', 'know', 'in', 'dm', 'https', 'co', 'gdrqu', 'ypt'], ['so', 'the', 'new', 'update', 'does', 'not', 'let', 'me', 'listen', 'to', 'music', 'and', 'go', 'on', 'whatsapp', 'at', 'the', 'same', 'time'], ['hi', 'harry', 'help', 'here', 'can', 'you', 'check', 'if', 'logging', 'out', 'gt', 'restarting', 'your', 'device', 'gt', 'logging', 'back', 'in', 'makes', 'difference', 'keep', 'us', 'posted', 'mu'], ['spotifycares', 'seems', 'to', 'be', 'working', 'at', 'this', 'stage', 'will', 'let', 'you', 'know', 'if', 'it', 'happens', 'again', 'cheers'], ['sure', 'thing', 'we', 'll', 'keep', 'an', 'eye', 'out', 'for', 'your', 'update', 'mu'], ['spotifycares', 'problem', 'has', 'come', 'back', 'again', 'today', 'is', 'there', 'some', 'kind', 'of', 'bug'], ['thanks', 'for', 'giving', 'us', 'nudge', 'about', 'this', 'what', 'device', 'operating', 'system', 'and', 'spotify', 'version', 'is', 'this', 'happening', 'on', 'ay'], ['spotifycares', 'it', 'on', 'macbook', 'air', 'early', 'running', 'high', 'sierra', 'spotify', 'version', 'gac'], ['got', 'it', 'can', 'you', 'try', 'the', 'steps', 'here', 'for', 'us', 'https', 'co', 'eqisdmwzat', 'they', 'should', 'help', 'with', 'this', 'let', 'us', 'know', 'how', 'it', 'plays', 'out', 'ay'], ['spotifycares', 've', 'been', 'having', 'issues', 'with', 'playback', 'songs', 'have', 'been', 'stopping', 'midway', 'through', 'and', 'won', 'restart', 'unless', 'close', 'and', 'reopen', 'app'], ['let', 'take', 'look', 'what', 'is', 'the', 'exact', 'ios', 'you', 're', 'using', 'are', 'you', 'using', 'any', 'specific', 'apps', 'when', 'noticing', 'this', 'dm', 'us', 'your', 'reply', 'https', 'co', 'gdrqu', 'ypt'], ['applesupport', 'latest', 'version', 'have', 'read', 'the', 'help', 'page', 'turned', 'off', 'virtually', 'all', 'apps', 'and', 'location', 'svs', 'too', 'but', 'in', 'typing', 'this', 'dropped', 'life'], ['applesupport', 'super', 'help', 'problem', 'solved', 'once', 'again', 'in', 'love', 'with', 'apple'], ['applesupport', 'ios', 'update', 'is', 'still', 'killing', 'my', 'battery', 'within', 'hours', 'phone', 'is', 'months', 'old', 'it', 'disgrace', 'used', 'to', 'get', 'days'], ['thanks', 'for', 'reaching', 'out', 'to', 'us', 'we', 'are', 'always', 'happy', 'to', 'help', 'send', 'us', 'dm', 'so', 'we', 'can', 'look', 'into', 'this', 'together', 'https', 'co', 'gdrqu', 'ypt'], ['took', 'my', 'phone', 'off', 'charge', 'at', 'am', 'am', 'battery', 'remaining', 'plz', 'beg', 'you', 'sort', 'your', 'battery', 'life', 'out'], ['once', 'the', 'points', 'load', 'and', 'you', 'hit', 'the', 'number', 'you', 'get', 'it', 'immediately', 'you', 'll', 'even', 'receive', 'congrats', 'email', 'are', 'you', 'almost', 'there', 'ac'], ['southwestair', 'am', 'thank', 'you', 'for', 'the', 'answer'], ['southwestair', 'just', 'curious', 'will', 'get', 'the', 'companion', 'pass', 'the', 'exact', 'moment', 'get', 'enough', 'points', 'it', 'will', 'have', 'to', 'wait', 'thanks'], ['we', 'like', 'to', 'provide', 'some', 'assistance', 'with', 'this', 'tell', 'us', 'more', 'about', 'the', 'issue', 'you', 're', 'experiencing', 'in', 'dm', 'we', 'll', 'go', 'from', 'there', 'https', 'co', 'gdrqu', 'ypt'], ['applesupport', 'need', 'new', 'code', 'for', 'my', 'store', 'haven', 'recd', 'any', 'but', 'msg', 'is', 'too', 'many', 'sent', 'help'], ['are', 'you', 'experiencing', 'an', 'issue', 'with', 'your', 'device', 'if', 'so', 'dm', 'us', 'with', 'what', 'going', 'on', 'we', 'll', 'see', 'how', 'we', 'can', 'help', 'from', 'there', 'https', 'co', 'gdrqu', 'ypt'], ['applesupport', 'fix', 'this', 'update', 'it', 'horrible'], ['appreciate', 'it', 'after', 'now', 'so', 'hopefully', 'you', 'will', 'depart', 'very', 'soon', 'we', 're', 'sorry', 'for', 'any', 'inconvenience', 'the', 'delay', 'has', 'caused', 'jr'], ['british_airways', 'thanks', 'for', 'your', 'answer', 'response', 'onsite', 'was', 'that', 'aircraft', 'will', 'not', 'depart', 'today', 'so', 'rebooking', 'to', 'with', 'now', 'delay'], ['very', 'sorry', 'to', 'hear', 'this', 'we', 'hope', 'you', 'get', 'everything', 'sorted', 'kind', 'regards', 'jools'], ['am', 'sorry', 'for', 'the', 'poor', 'experience', 'can', 'you', 'please', 'dm', 'the', 'full', 'service', 'address', 'and', 'name', 'on', 'the', 'account', 'as', 'we', 'ass', 'https', 'co', 'jezhqgdbmd'], ['ask_spectrum', 'it', 'just', 'in', 'my', 'yard', 've', 'called', 'times', 'in', 'weeks', 'not', 'customer', 'but', 'it', 'pretty', 'tempting', 'do', 'have', 'some', 'coaxial'], ['guess', 'this', 'means', 'free', 'cable', 'for', 'the', 'neighborhood', 'https', 'co', 'fbgee', 'yxpm'], ['hi', 'thomas', 'if', 'colleague', 'believes', 'the', 'person', 'buying', 'alcohol', 'looks', 'under', 'they', 'will', 'be', 'challenged', 'for', 'id', 'to', 'prove', 'they', 're', 'of', 'age', 'paige'], ['tesco', 'maybe', 'hire', 'colleagues', 'who', 'can', 'see'], ['tesco', 'the', 'point', 'is', 'if', 'it', 'enforced', 'they', 'do', 'it', 'properly', 'or', 'they', 'don', 'plus', 'take', 'some', 'common', 'sense', 'and', 'think', 'does', 'that', 'person', 'look', 'over'], ['hi', 'thomas', 'this', 'is', 'correct', 'but', 'this', 'helps', 'our', 'store', 'colleagues', 'judge', 'age', 'and', 'protect', 'them', 'from', 'making', 'underage', 'sales', 'amanda'], ['tesco', 'uk', 'offlicense', 'law', 'is', 'not'], ['hi', 'thomas', 'we', 'operate', 'think', 'policy', 'at', 'our', 'stores', 'be', 'flattered', 'to', 'be', 'id', 'helena'], ['got', 'id', 'tesco', 'for', 'buying', 'one', 'adnams', 'broadside', 'is', 'being', 'blind', 'part', 'of', 'the', 'job', 'spec', 'am', 'and', 'kilos'], ['hi', 'there', 'could', 'you', 'try', 'deleting', 'your', 'cache', 'and', 'cookies', 'and', 'reinstalling', 'the', 'app', 'if', 'using', 'it', 'this', 'should', 'fix', 'the', 'issue', 'dani'], ['tesco', 'will', 'lose', 'all', 'the', 'shopping', 've', 'done', 'if', 'delete', 'the', 'cache', 'cookies', 'not', 'using', 'app'], ['hi', 'there', 'as', 'long', 'as', 'you', 'sign', 'out', 'of', 'your', 'account', 'prior', 'to', 'deleting', 'your', 'cache', 'amp', 'cookies', 'you', 'll', 'still', 'have', 'full', 'basket', 'thanks', 'mike'], ['tesco', 'done', 'all', 'that', 'still', 'telling', 'me', 'there', 'are', 'no', 'delivery', 'slots', 'whatsoever'], ['can', 'you', 'dm', 'me', 'your', 'full', 'name', 'address', 'and', 'email', 'be', 'happy', 'to', 'look', 'into', 'this', 'further', 'for', 'you', 'thanks', 'mike'], ['hey', 'tesco', 'your', 'website', 'broken', 'it', 'telling', 'me', 'there', 'are', 'no', 'delivery', 'slots', 'for', 'the', 'next', 'weeks', 'which', 'find', 'slightly', 'unlikely'], ['is', 'there', 'particular', 'app', 'that', 'seems', 'to', 'cause', 'these', 'issues', 'more', 'than', 'others', 'what', 'model', 'iphone', 'are', 'you', 'using', 'join', 'us', 'in', 'dm', 'https', 'co', 'gdrqu', 'ypt'], ['applesupport', 'have', 'the', 'latest', 'version', 'ios', 'it', 'started', 'immediately', 'after', 'updated', 'my', 'phone'], ['we', 'like', 'to', 'help', 'if', 'we', 'can', 'when', 'did', 'this', 'start', 'happening', 'which', 'version', 'of', 'ios', 'are', 'you', 'running', 'currently'], ['my', 'apps', 'stop', 'working', 'without', 'warning', 'and', 'my', 'phone', 'freezes', 'every', 'five', 'minutes', 'love', 'the', 'new', 'update'], ['hi', 'agoura', 'thanks', 'for', 'tweeting', 'please', 'refer', 'to', 'this', 'article', 'https', 'co', 'bssgjzartc', 'amp', 'click', 'the', 'link', 'to', 'reply', 'back', 'rashmi', 'https', 'co', 'xkfcrug'], ['hpsupport', 'problem', 'with', 'printhead', 'serial', 'th', 'hn', 'hpcswus', 'hpprnt'], ['ups', 'has', 'service', 'called', 'my', 'choice', 'that', 'will', 'allow', 'your', 'packages', 'to', 'be', 'delivered', 'to', 'ups', 'store', 'ml', 'https', 'co', 'bpzkndqww', 'https', 'co', 'wkjhdxwgrq'], ['wish', 'amazon', 'had', 'an', 'option', 'of', 'where', 'can', 'just', 'get', 'it', 'shipped', 'to', 'the', 'ups', 'store', 'so', 'can', 'avoid', 'lot', 'of', 'the', 'struggle'], ['they', 'reschedule', 'my', 'shit', 'for', 'tomorrow', 'https', 'co', 'rsvzct'], ['hey', 'sara', 'sorry', 'to', 'hear', 'of', 'the', 'issues', 'you', 'are', 'having', 'can', 'ask', 'if', 'it', 'the', 'lay', 'out', 'or', 'just', 'the', 'speed', 'of', 'the', 'website', 'responding', 'ty', 'chris'], ['tesco', 'bit', 'of', 'both', 'finding', 'the', 'layout', 'cumbersome', 'and', 'when', 'removing', 'an', 'item', 'from', 'faves', 'getting', 'huge', 'slowdown', 'not', 'keen', 'on', 'the', 'thin', 'green', 'line', 'https', 'co', 'okeebk'], ['if', 'that', 'doesn', 'help', 'please', 'dm', 'your', 'full', 'name', 'address', 'and', 'email', 'including', 'the', 'browser', 'and', 'device', 'so', 'we', 'can', 'log', 'this', 'thanks', 'lee']]\n"
          ]
        }
      ]
    },
    {
      "cell_type": "markdown",
      "source": [
        "##BoW"
      ],
      "metadata": {
        "id": "lF3pZx_Atn-i"
      }
    },
    {
      "cell_type": "code",
      "source": [
        "#for bows fit_transform it need to be sentences\n",
        "flattened_list = [' '.join(sentence) for sentence in processed_data]\n",
        "flattened_list[:5]"
      ],
      "metadata": {
        "colab": {
          "base_uri": "https://localhost:8080/"
        },
        "id": "CwOqY_vVwHiN",
        "outputId": "073d3cfe-b7e7-407f-8e02-10fe50746cc6"
      },
      "execution_count": 15,
      "outputs": [
        {
          "output_type": "execute_result",
          "data": {
            "text/plain": [
              "['applesupport causing the reply to be disregarded and the tapped notification under the keyboard is opened',\n",
              " 'your business means lot to us please dm your name zip code and additional details about your concern rr https co znuu vjn',\n",
              " 'really hope you all change but sure you won because you don have to',\n",
              " 'livechat is online at the moment https co sy vtu kq or contact option leave message to request call back',\n",
              " 'virgintrains see attached error message ve tried leaving voicemail several times in the past week https co nxvzjlyx']"
            ]
          },
          "metadata": {},
          "execution_count": 15
        }
      ]
    },
    {
      "cell_type": "code",
      "source": [
        "bow= CountVectorizer()"
      ],
      "metadata": {
        "id": "D6bPjcZTuJci"
      },
      "execution_count": 16,
      "outputs": []
    },
    {
      "cell_type": "code",
      "source": [
        "document_matrix = bow.fit_transform(flattened_list)\n",
        "print(document_matrix.toarray())"
      ],
      "metadata": {
        "colab": {
          "base_uri": "https://localhost:8080/"
        },
        "id": "sQK5HFI6ubm_",
        "outputId": "1f4e8b66-d75c-4181-b030-97c992603960"
      },
      "execution_count": 17,
      "outputs": [
        {
          "output_type": "stream",
          "name": "stdout",
          "text": [
            "[[0 0 0 ... 0 0 0]\n",
            " [1 0 0 ... 0 1 1]\n",
            " [0 0 0 ... 0 0 0]\n",
            " ...\n",
            " [0 0 0 ... 0 0 0]\n",
            " [0 0 0 ... 0 0 0]\n",
            " [0 0 0 ... 0 0 0]]\n"
          ]
        }
      ]
    },
    {
      "cell_type": "markdown",
      "source": [
        "### ngram (range=3)"
      ],
      "metadata": {
        "id": "8_JzQuOSE0bI"
      }
    },
    {
      "cell_type": "code",
      "source": [
        "trigram = CountVectorizer(ngram_range=(3,3))\n",
        "trigram.fit_transform(flattened_list).toarray()"
      ],
      "metadata": {
        "colab": {
          "base_uri": "https://localhost:8080/"
        },
        "id": "gCbCt6hBxKq_",
        "outputId": "ecbca746-28f6-4311-f9ec-0a57f8edcaa2"
      },
      "execution_count": 18,
      "outputs": [
        {
          "output_type": "execute_result",
          "data": {
            "text/plain": [
              "array([[0, 0, 0, ..., 0, 0, 0],\n",
              "       [0, 0, 0, ..., 0, 0, 1],\n",
              "       [0, 0, 0, ..., 0, 0, 0],\n",
              "       ...,\n",
              "       [0, 0, 0, ..., 0, 0, 0],\n",
              "       [0, 0, 0, ..., 0, 0, 0],\n",
              "       [0, 0, 0, ..., 0, 0, 0]])"
            ]
          },
          "metadata": {},
          "execution_count": 18
        }
      ]
    },
    {
      "cell_type": "markdown",
      "source": [
        "##TFIDF"
      ],
      "metadata": {
        "id": "eSWU2OMGxzZ7"
      }
    },
    {
      "cell_type": "code",
      "source": [
        "tfidf=TfidfVectorizer()\n",
        "tfidf.fit_transform(flattened_list).toarray()"
      ],
      "metadata": {
        "colab": {
          "base_uri": "https://localhost:8080/"
        },
        "id": "DQbHA3Chx08A",
        "outputId": "593c20fe-6a48-40bd-866f-f4924a4c3e25"
      },
      "execution_count": 19,
      "outputs": [
        {
          "output_type": "execute_result",
          "data": {
            "text/plain": [
              "array([[0.        , 0.        , 0.        , ..., 0.        , 0.        ,\n",
              "        0.        ],\n",
              "       [0.18024333, 0.        , 0.        , ..., 0.        , 0.25237985,\n",
              "        0.25237985],\n",
              "       [0.        , 0.        , 0.        , ..., 0.        , 0.        ,\n",
              "        0.        ],\n",
              "       ...,\n",
              "       [0.        , 0.        , 0.        , ..., 0.        , 0.        ,\n",
              "        0.        ],\n",
              "       [0.        , 0.        , 0.        , ..., 0.        , 0.        ,\n",
              "        0.        ],\n",
              "       [0.        , 0.        , 0.        , ..., 0.        , 0.        ,\n",
              "        0.        ]])"
            ]
          },
          "metadata": {},
          "execution_count": 19
        }
      ]
    },
    {
      "cell_type": "markdown",
      "source": [
        "##Word2Vec with Gensim"
      ],
      "metadata": {
        "id": "UP7tjZ5p50mr"
      }
    },
    {
      "cell_type": "code",
      "source": [
        "#tokenize\n",
        "tokenized_sentences = [word_tokenize(sentence) for sentence in flattened_list]\n",
        "model = Word2Vec(tokenized_sentences, vector_size=150, window=5, min_count=1, workers=4)\n"
      ],
      "metadata": {
        "id": "WCCNbKVv53Ju"
      },
      "execution_count": 20,
      "outputs": []
    },
    {
      "cell_type": "code",
      "source": [
        "tokenized_sentences[0]"
      ],
      "metadata": {
        "colab": {
          "base_uri": "https://localhost:8080/"
        },
        "id": "drQZ6Np87xtR",
        "outputId": "ca4b627e-fd07-43ec-df6f-13caa3476f05"
      },
      "execution_count": 21,
      "outputs": [
        {
          "output_type": "execute_result",
          "data": {
            "text/plain": [
              "['applesupport',\n",
              " 'causing',\n",
              " 'the',\n",
              " 'reply',\n",
              " 'to',\n",
              " 'be',\n",
              " 'disregarded',\n",
              " 'and',\n",
              " 'the',\n",
              " 'tapped',\n",
              " 'notification',\n",
              " 'under',\n",
              " 'the',\n",
              " 'keyboard',\n",
              " 'is',\n",
              " 'opened']"
            ]
          },
          "metadata": {},
          "execution_count": 21
        }
      ]
    },
    {
      "cell_type": "code",
      "source": [
        "model.wv['apple']"
      ],
      "metadata": {
        "colab": {
          "base_uri": "https://localhost:8080/"
        },
        "id": "WVivsxrN7aV8",
        "outputId": "6e6527aa-a54d-404c-8101-a86cf036d1e5"
      },
      "execution_count": 22,
      "outputs": [
        {
          "output_type": "execute_result",
          "data": {
            "text/plain": [
              "array([ 0.00352292, -0.00606536,  0.00474067, -0.00077141,  0.00485152,\n",
              "        0.00324821,  0.00085829, -0.00343773,  0.00345568,  0.00602345,\n",
              "       -0.00133821,  0.00285517, -0.00350032,  0.00425209,  0.00405477,\n",
              "        0.00101086,  0.00516421,  0.00449445, -0.00660499, -0.00402902,\n",
              "        0.00601426, -0.00019638,  0.00016964, -0.0059879 , -0.00552586,\n",
              "        0.00074622,  0.00643974, -0.00247441,  0.00128231,  0.00060149,\n",
              "       -0.00364183,  0.00515676, -0.00572699, -0.00130253, -0.0036639 ,\n",
              "        0.00078505,  0.00277227,  0.00630475, -0.00409382,  0.00107465,\n",
              "        0.00264943,  0.00447606,  0.00380119,  0.00254504,  0.00123817,\n",
              "       -0.00381521, -0.00030281,  0.00548259,  0.00230666, -0.00173241,\n",
              "       -0.00522204,  0.00471172, -0.00089238, -0.00058446,  0.00536423,\n",
              "       -0.00345579, -0.00238243,  0.00200984,  0.00200449, -0.00375231,\n",
              "       -0.00524976,  0.002637  , -0.00026106, -0.00615345, -0.00216675,\n",
              "        0.00136841,  0.00524692,  0.00254298, -0.00633432, -0.00415678,\n",
              "       -0.00309383, -0.00562347, -0.00033366,  0.00124843, -0.0053762 ,\n",
              "        0.00576744,  0.00522254,  0.00571996, -0.0058046 , -0.003473  ,\n",
              "        0.00223499,  0.00610149,  0.00536456, -0.00356061,  0.00528829,\n",
              "        0.00031751, -0.00398271, -0.00453546,  0.00414801,  0.00353847,\n",
              "        0.00594588,  0.00551866,  0.0018126 , -0.00228598,  0.00011804,\n",
              "        0.00615441,  0.00350308,  0.00201138, -0.00072814,  0.00348328,\n",
              "        0.00555756,  0.00379257, -0.00261624,  0.00616827,  0.0048311 ,\n",
              "        0.00193404, -0.00137363,  0.00238762, -0.00113541, -0.00343302,\n",
              "       -0.00470777,  0.00555793, -0.00608211,  0.00343946,  0.00300067,\n",
              "        0.00610282, -0.00620841,  0.0021055 ,  0.0025095 , -0.00390153,\n",
              "       -0.00327814,  0.00202976, -0.00328503,  0.00072883, -0.00128933,\n",
              "       -0.00403207,  0.00646796, -0.00271716, -0.00212949,  0.00658651,\n",
              "        0.00587211,  0.00668985, -0.00071275,  0.00028451,  0.00149947,\n",
              "       -0.00144462,  0.00551682,  0.00290697, -0.00607771, -0.00631773,\n",
              "       -0.0057601 ,  0.005792  , -0.00151093, -0.00057934, -0.00399941,\n",
              "       -0.00534443,  0.00087857, -0.00147264, -0.00162521,  0.00312244],\n",
              "      dtype=float32)"
            ]
          },
          "metadata": {},
          "execution_count": 22
        }
      ]
    },
    {
      "cell_type": "code",
      "source": [
        "model.wv.most_similar('apple')"
      ],
      "metadata": {
        "colab": {
          "base_uri": "https://localhost:8080/"
        },
        "id": "0Jh4hhIV9CYR",
        "outputId": "3bdd6e61-c4fa-4317-be60-3ea3d9c5bc2a"
      },
      "execution_count": 23,
      "outputs": [
        {
          "output_type": "execute_result",
          "data": {
            "text/plain": [
              "[('age', 0.2114197164773941),\n",
              " ('ask', 0.2062194049358368),\n",
              " ('who', 0.1998768299818039),\n",
              " ('day', 0.1909560263156891),\n",
              " ('receive', 0.17823272943496704),\n",
              " ('contact', 0.17164522409439087),\n",
              " ('aircraft', 0.15995463728904724),\n",
              " ('znuu', 0.15972264111042023),\n",
              " ('directed', 0.15971270203590393),\n",
              " ('update', 0.15964369475841522)]"
            ]
          },
          "metadata": {},
          "execution_count": 23
        }
      ]
    }
  ]
}